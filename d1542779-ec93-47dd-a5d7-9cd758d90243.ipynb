{
 "cells": [
  {
   "cell_type": "markdown",
   "id": "386f2ae7",
   "metadata": {
    "deletable": false,
    "editable": false,
    "id": "386f2ae7"
   },
   "source": [
    "# Исследование надежности заемщиков\n"
   ]
  },
  {
   "cell_type": "markdown",
   "id": "a21f80a2-dde0-492b-9907-76e3a1ce772f",
   "metadata": {
    "deletable": false,
    "editable": false,
    "id": "ffe86f65"
   },
   "source": [
    "Во второй части проекта вы выполните шаги 3 и 4. Их вручную проверит ревьюер.\n",
    "Чтобы вам не пришлось писать код заново для шагов 1 и 2, мы добавили авторские решения в ячейки с кодом. \n",
    "\n"
   ]
  },
  {
   "cell_type": "markdown",
   "id": "26613308",
   "metadata": {
    "deletable": false,
    "editable": false,
    "id": "26613308"
   },
   "source": [
    "## Откройте таблицу и изучите общую информацию о данных"
   ]
  },
  {
   "cell_type": "markdown",
   "id": "3c9f838e",
   "metadata": {
    "deletable": false,
    "editable": false,
    "id": "3c9f838e"
   },
   "source": [
    "**Задание 1. Импортируйте библиотеку pandas. Считайте данные из csv-файла в датафрейм и сохраните в переменную `data`. Путь к файлу:**\n",
    "\n",
    "`/datasets/data.csv`"
   ]
  },
  {
   "cell_type": "code",
   "execution_count": 2,
   "id": "77a68a90",
   "metadata": {
    "deletable": false,
    "id": "77a68a90"
   },
   "outputs": [],
   "source": [
    "import pandas as pd\n",
    "\n",
    "try:\n",
    "    data = pd.read_csv('/datasets/data.csv')\n",
    "except:\n",
    "    data = pd.read_csv('https://code.s3.yandex.net/datasets/data.csv')"
   ]
  },
  {
   "cell_type": "markdown",
   "id": "45365635",
   "metadata": {
    "deletable": false,
    "editable": false,
    "id": "45365635"
   },
   "source": [
    "**Задание 2. Выведите первые 20 строчек датафрейма `data` на экран.**"
   ]
  },
  {
   "cell_type": "code",
   "execution_count": 3,
   "id": "b0451a9a",
   "metadata": {
    "deletable": false,
    "id": "b0451a9a",
    "outputId": "1a8f3ef2-d323-4ec2-ddf7-89670b5944c4"
   },
   "outputs": [
    {
     "data": {
      "text/html": [
       "<div>\n",
       "<style scoped>\n",
       "    .dataframe tbody tr th:only-of-type {\n",
       "        vertical-align: middle;\n",
       "    }\n",
       "\n",
       "    .dataframe tbody tr th {\n",
       "        vertical-align: top;\n",
       "    }\n",
       "\n",
       "    .dataframe thead th {\n",
       "        text-align: right;\n",
       "    }\n",
       "</style>\n",
       "<table border=\"1\" class=\"dataframe\">\n",
       "  <thead>\n",
       "    <tr style=\"text-align: right;\">\n",
       "      <th></th>\n",
       "      <th>children</th>\n",
       "      <th>days_employed</th>\n",
       "      <th>dob_years</th>\n",
       "      <th>education</th>\n",
       "      <th>education_id</th>\n",
       "      <th>family_status</th>\n",
       "      <th>family_status_id</th>\n",
       "      <th>gender</th>\n",
       "      <th>income_type</th>\n",
       "      <th>debt</th>\n",
       "      <th>total_income</th>\n",
       "      <th>purpose</th>\n",
       "    </tr>\n",
       "  </thead>\n",
       "  <tbody>\n",
       "    <tr>\n",
       "      <th>0</th>\n",
       "      <td>1</td>\n",
       "      <td>-8437.673028</td>\n",
       "      <td>42</td>\n",
       "      <td>высшее</td>\n",
       "      <td>0</td>\n",
       "      <td>женат / замужем</td>\n",
       "      <td>0</td>\n",
       "      <td>F</td>\n",
       "      <td>сотрудник</td>\n",
       "      <td>0</td>\n",
       "      <td>253875.639453</td>\n",
       "      <td>покупка жилья</td>\n",
       "    </tr>\n",
       "    <tr>\n",
       "      <th>1</th>\n",
       "      <td>1</td>\n",
       "      <td>-4024.803754</td>\n",
       "      <td>36</td>\n",
       "      <td>среднее</td>\n",
       "      <td>1</td>\n",
       "      <td>женат / замужем</td>\n",
       "      <td>0</td>\n",
       "      <td>F</td>\n",
       "      <td>сотрудник</td>\n",
       "      <td>0</td>\n",
       "      <td>112080.014102</td>\n",
       "      <td>приобретение автомобиля</td>\n",
       "    </tr>\n",
       "    <tr>\n",
       "      <th>2</th>\n",
       "      <td>0</td>\n",
       "      <td>-5623.422610</td>\n",
       "      <td>33</td>\n",
       "      <td>Среднее</td>\n",
       "      <td>1</td>\n",
       "      <td>женат / замужем</td>\n",
       "      <td>0</td>\n",
       "      <td>M</td>\n",
       "      <td>сотрудник</td>\n",
       "      <td>0</td>\n",
       "      <td>145885.952297</td>\n",
       "      <td>покупка жилья</td>\n",
       "    </tr>\n",
       "    <tr>\n",
       "      <th>3</th>\n",
       "      <td>3</td>\n",
       "      <td>-4124.747207</td>\n",
       "      <td>32</td>\n",
       "      <td>среднее</td>\n",
       "      <td>1</td>\n",
       "      <td>женат / замужем</td>\n",
       "      <td>0</td>\n",
       "      <td>M</td>\n",
       "      <td>сотрудник</td>\n",
       "      <td>0</td>\n",
       "      <td>267628.550329</td>\n",
       "      <td>дополнительное образование</td>\n",
       "    </tr>\n",
       "    <tr>\n",
       "      <th>4</th>\n",
       "      <td>0</td>\n",
       "      <td>340266.072047</td>\n",
       "      <td>53</td>\n",
       "      <td>среднее</td>\n",
       "      <td>1</td>\n",
       "      <td>гражданский брак</td>\n",
       "      <td>1</td>\n",
       "      <td>F</td>\n",
       "      <td>пенсионер</td>\n",
       "      <td>0</td>\n",
       "      <td>158616.077870</td>\n",
       "      <td>сыграть свадьбу</td>\n",
       "    </tr>\n",
       "    <tr>\n",
       "      <th>5</th>\n",
       "      <td>0</td>\n",
       "      <td>-926.185831</td>\n",
       "      <td>27</td>\n",
       "      <td>высшее</td>\n",
       "      <td>0</td>\n",
       "      <td>гражданский брак</td>\n",
       "      <td>1</td>\n",
       "      <td>M</td>\n",
       "      <td>компаньон</td>\n",
       "      <td>0</td>\n",
       "      <td>255763.565419</td>\n",
       "      <td>покупка жилья</td>\n",
       "    </tr>\n",
       "    <tr>\n",
       "      <th>6</th>\n",
       "      <td>0</td>\n",
       "      <td>-2879.202052</td>\n",
       "      <td>43</td>\n",
       "      <td>высшее</td>\n",
       "      <td>0</td>\n",
       "      <td>женат / замужем</td>\n",
       "      <td>0</td>\n",
       "      <td>F</td>\n",
       "      <td>компаньон</td>\n",
       "      <td>0</td>\n",
       "      <td>240525.971920</td>\n",
       "      <td>операции с жильем</td>\n",
       "    </tr>\n",
       "    <tr>\n",
       "      <th>7</th>\n",
       "      <td>0</td>\n",
       "      <td>-152.779569</td>\n",
       "      <td>50</td>\n",
       "      <td>СРЕДНЕЕ</td>\n",
       "      <td>1</td>\n",
       "      <td>женат / замужем</td>\n",
       "      <td>0</td>\n",
       "      <td>M</td>\n",
       "      <td>сотрудник</td>\n",
       "      <td>0</td>\n",
       "      <td>135823.934197</td>\n",
       "      <td>образование</td>\n",
       "    </tr>\n",
       "    <tr>\n",
       "      <th>8</th>\n",
       "      <td>2</td>\n",
       "      <td>-6929.865299</td>\n",
       "      <td>35</td>\n",
       "      <td>ВЫСШЕЕ</td>\n",
       "      <td>0</td>\n",
       "      <td>гражданский брак</td>\n",
       "      <td>1</td>\n",
       "      <td>F</td>\n",
       "      <td>сотрудник</td>\n",
       "      <td>0</td>\n",
       "      <td>95856.832424</td>\n",
       "      <td>на проведение свадьбы</td>\n",
       "    </tr>\n",
       "    <tr>\n",
       "      <th>9</th>\n",
       "      <td>0</td>\n",
       "      <td>-2188.756445</td>\n",
       "      <td>41</td>\n",
       "      <td>среднее</td>\n",
       "      <td>1</td>\n",
       "      <td>женат / замужем</td>\n",
       "      <td>0</td>\n",
       "      <td>M</td>\n",
       "      <td>сотрудник</td>\n",
       "      <td>0</td>\n",
       "      <td>144425.938277</td>\n",
       "      <td>покупка жилья для семьи</td>\n",
       "    </tr>\n",
       "    <tr>\n",
       "      <th>10</th>\n",
       "      <td>2</td>\n",
       "      <td>-4171.483647</td>\n",
       "      <td>36</td>\n",
       "      <td>высшее</td>\n",
       "      <td>0</td>\n",
       "      <td>женат / замужем</td>\n",
       "      <td>0</td>\n",
       "      <td>M</td>\n",
       "      <td>компаньон</td>\n",
       "      <td>0</td>\n",
       "      <td>113943.491460</td>\n",
       "      <td>покупка недвижимости</td>\n",
       "    </tr>\n",
       "    <tr>\n",
       "      <th>11</th>\n",
       "      <td>0</td>\n",
       "      <td>-792.701887</td>\n",
       "      <td>40</td>\n",
       "      <td>среднее</td>\n",
       "      <td>1</td>\n",
       "      <td>женат / замужем</td>\n",
       "      <td>0</td>\n",
       "      <td>F</td>\n",
       "      <td>сотрудник</td>\n",
       "      <td>0</td>\n",
       "      <td>77069.234271</td>\n",
       "      <td>покупка коммерческой недвижимости</td>\n",
       "    </tr>\n",
       "    <tr>\n",
       "      <th>12</th>\n",
       "      <td>0</td>\n",
       "      <td>NaN</td>\n",
       "      <td>65</td>\n",
       "      <td>среднее</td>\n",
       "      <td>1</td>\n",
       "      <td>гражданский брак</td>\n",
       "      <td>1</td>\n",
       "      <td>M</td>\n",
       "      <td>пенсионер</td>\n",
       "      <td>0</td>\n",
       "      <td>NaN</td>\n",
       "      <td>сыграть свадьбу</td>\n",
       "    </tr>\n",
       "    <tr>\n",
       "      <th>13</th>\n",
       "      <td>0</td>\n",
       "      <td>-1846.641941</td>\n",
       "      <td>54</td>\n",
       "      <td>неоконченное высшее</td>\n",
       "      <td>2</td>\n",
       "      <td>женат / замужем</td>\n",
       "      <td>0</td>\n",
       "      <td>F</td>\n",
       "      <td>сотрудник</td>\n",
       "      <td>0</td>\n",
       "      <td>130458.228857</td>\n",
       "      <td>приобретение автомобиля</td>\n",
       "    </tr>\n",
       "    <tr>\n",
       "      <th>14</th>\n",
       "      <td>0</td>\n",
       "      <td>-1844.956182</td>\n",
       "      <td>56</td>\n",
       "      <td>высшее</td>\n",
       "      <td>0</td>\n",
       "      <td>гражданский брак</td>\n",
       "      <td>1</td>\n",
       "      <td>F</td>\n",
       "      <td>компаньон</td>\n",
       "      <td>1</td>\n",
       "      <td>165127.911772</td>\n",
       "      <td>покупка жилой недвижимости</td>\n",
       "    </tr>\n",
       "    <tr>\n",
       "      <th>15</th>\n",
       "      <td>1</td>\n",
       "      <td>-972.364419</td>\n",
       "      <td>26</td>\n",
       "      <td>среднее</td>\n",
       "      <td>1</td>\n",
       "      <td>женат / замужем</td>\n",
       "      <td>0</td>\n",
       "      <td>F</td>\n",
       "      <td>сотрудник</td>\n",
       "      <td>0</td>\n",
       "      <td>116820.904450</td>\n",
       "      <td>строительство собственной недвижимости</td>\n",
       "    </tr>\n",
       "    <tr>\n",
       "      <th>16</th>\n",
       "      <td>0</td>\n",
       "      <td>-1719.934226</td>\n",
       "      <td>35</td>\n",
       "      <td>среднее</td>\n",
       "      <td>1</td>\n",
       "      <td>женат / замужем</td>\n",
       "      <td>0</td>\n",
       "      <td>F</td>\n",
       "      <td>сотрудник</td>\n",
       "      <td>0</td>\n",
       "      <td>289202.704229</td>\n",
       "      <td>недвижимость</td>\n",
       "    </tr>\n",
       "    <tr>\n",
       "      <th>17</th>\n",
       "      <td>0</td>\n",
       "      <td>-2369.999720</td>\n",
       "      <td>33</td>\n",
       "      <td>высшее</td>\n",
       "      <td>0</td>\n",
       "      <td>гражданский брак</td>\n",
       "      <td>1</td>\n",
       "      <td>M</td>\n",
       "      <td>сотрудник</td>\n",
       "      <td>0</td>\n",
       "      <td>90410.586745</td>\n",
       "      <td>строительство недвижимости</td>\n",
       "    </tr>\n",
       "    <tr>\n",
       "      <th>18</th>\n",
       "      <td>0</td>\n",
       "      <td>400281.136913</td>\n",
       "      <td>53</td>\n",
       "      <td>среднее</td>\n",
       "      <td>1</td>\n",
       "      <td>вдовец / вдова</td>\n",
       "      <td>2</td>\n",
       "      <td>F</td>\n",
       "      <td>пенсионер</td>\n",
       "      <td>0</td>\n",
       "      <td>56823.777243</td>\n",
       "      <td>на покупку подержанного автомобиля</td>\n",
       "    </tr>\n",
       "    <tr>\n",
       "      <th>19</th>\n",
       "      <td>0</td>\n",
       "      <td>-10038.818549</td>\n",
       "      <td>48</td>\n",
       "      <td>СРЕДНЕЕ</td>\n",
       "      <td>1</td>\n",
       "      <td>в разводе</td>\n",
       "      <td>3</td>\n",
       "      <td>F</td>\n",
       "      <td>сотрудник</td>\n",
       "      <td>0</td>\n",
       "      <td>242831.107982</td>\n",
       "      <td>на покупку своего автомобиля</td>\n",
       "    </tr>\n",
       "  </tbody>\n",
       "</table>\n",
       "</div>"
      ],
      "text/plain": [
       "    children  days_employed  dob_years            education  education_id  \\\n",
       "0          1   -8437.673028         42               высшее             0   \n",
       "1          1   -4024.803754         36              среднее             1   \n",
       "2          0   -5623.422610         33              Среднее             1   \n",
       "3          3   -4124.747207         32              среднее             1   \n",
       "4          0  340266.072047         53              среднее             1   \n",
       "5          0    -926.185831         27               высшее             0   \n",
       "6          0   -2879.202052         43               высшее             0   \n",
       "7          0    -152.779569         50              СРЕДНЕЕ             1   \n",
       "8          2   -6929.865299         35               ВЫСШЕЕ             0   \n",
       "9          0   -2188.756445         41              среднее             1   \n",
       "10         2   -4171.483647         36               высшее             0   \n",
       "11         0    -792.701887         40              среднее             1   \n",
       "12         0            NaN         65              среднее             1   \n",
       "13         0   -1846.641941         54  неоконченное высшее             2   \n",
       "14         0   -1844.956182         56               высшее             0   \n",
       "15         1    -972.364419         26              среднее             1   \n",
       "16         0   -1719.934226         35              среднее             1   \n",
       "17         0   -2369.999720         33               высшее             0   \n",
       "18         0  400281.136913         53              среднее             1   \n",
       "19         0  -10038.818549         48              СРЕДНЕЕ             1   \n",
       "\n",
       "       family_status  family_status_id gender income_type  debt  \\\n",
       "0    женат / замужем                 0      F   сотрудник     0   \n",
       "1    женат / замужем                 0      F   сотрудник     0   \n",
       "2    женат / замужем                 0      M   сотрудник     0   \n",
       "3    женат / замужем                 0      M   сотрудник     0   \n",
       "4   гражданский брак                 1      F   пенсионер     0   \n",
       "5   гражданский брак                 1      M   компаньон     0   \n",
       "6    женат / замужем                 0      F   компаньон     0   \n",
       "7    женат / замужем                 0      M   сотрудник     0   \n",
       "8   гражданский брак                 1      F   сотрудник     0   \n",
       "9    женат / замужем                 0      M   сотрудник     0   \n",
       "10   женат / замужем                 0      M   компаньон     0   \n",
       "11   женат / замужем                 0      F   сотрудник     0   \n",
       "12  гражданский брак                 1      M   пенсионер     0   \n",
       "13   женат / замужем                 0      F   сотрудник     0   \n",
       "14  гражданский брак                 1      F   компаньон     1   \n",
       "15   женат / замужем                 0      F   сотрудник     0   \n",
       "16   женат / замужем                 0      F   сотрудник     0   \n",
       "17  гражданский брак                 1      M   сотрудник     0   \n",
       "18    вдовец / вдова                 2      F   пенсионер     0   \n",
       "19         в разводе                 3      F   сотрудник     0   \n",
       "\n",
       "     total_income                                 purpose  \n",
       "0   253875.639453                           покупка жилья  \n",
       "1   112080.014102                 приобретение автомобиля  \n",
       "2   145885.952297                           покупка жилья  \n",
       "3   267628.550329              дополнительное образование  \n",
       "4   158616.077870                         сыграть свадьбу  \n",
       "5   255763.565419                           покупка жилья  \n",
       "6   240525.971920                       операции с жильем  \n",
       "7   135823.934197                             образование  \n",
       "8    95856.832424                   на проведение свадьбы  \n",
       "9   144425.938277                 покупка жилья для семьи  \n",
       "10  113943.491460                    покупка недвижимости  \n",
       "11   77069.234271       покупка коммерческой недвижимости  \n",
       "12            NaN                         сыграть свадьбу  \n",
       "13  130458.228857                 приобретение автомобиля  \n",
       "14  165127.911772              покупка жилой недвижимости  \n",
       "15  116820.904450  строительство собственной недвижимости  \n",
       "16  289202.704229                            недвижимость  \n",
       "17   90410.586745              строительство недвижимости  \n",
       "18   56823.777243      на покупку подержанного автомобиля  \n",
       "19  242831.107982            на покупку своего автомобиля  "
      ]
     },
     "execution_count": 3,
     "metadata": {},
     "output_type": "execute_result"
    }
   ],
   "source": [
    "data.head(20)"
   ]
  },
  {
   "cell_type": "markdown",
   "id": "0ed8f27f",
   "metadata": {
    "deletable": false,
    "editable": false,
    "id": "0ed8f27f"
   },
   "source": [
    "**Задание 3. Выведите основную информацию о датафрейме с помощью метода `info()`.**"
   ]
  },
  {
   "cell_type": "code",
   "execution_count": 4,
   "id": "ab3f863b",
   "metadata": {
    "deletable": false,
    "id": "ab3f863b",
    "outputId": "15376089-8dad-46c9-b520-c05248d43158"
   },
   "outputs": [
    {
     "name": "stdout",
     "output_type": "stream",
     "text": [
      "<class 'pandas.core.frame.DataFrame'>\n",
      "RangeIndex: 21525 entries, 0 to 21524\n",
      "Data columns (total 12 columns):\n",
      " #   Column            Non-Null Count  Dtype  \n",
      "---  ------            --------------  -----  \n",
      " 0   children          21525 non-null  int64  \n",
      " 1   days_employed     19351 non-null  float64\n",
      " 2   dob_years         21525 non-null  int64  \n",
      " 3   education         21525 non-null  object \n",
      " 4   education_id      21525 non-null  int64  \n",
      " 5   family_status     21525 non-null  object \n",
      " 6   family_status_id  21525 non-null  int64  \n",
      " 7   gender            21525 non-null  object \n",
      " 8   income_type       21525 non-null  object \n",
      " 9   debt              21525 non-null  int64  \n",
      " 10  total_income      19351 non-null  float64\n",
      " 11  purpose           21525 non-null  object \n",
      "dtypes: float64(2), int64(5), object(5)\n",
      "memory usage: 2.0+ MB\n"
     ]
    }
   ],
   "source": [
    "data.info()"
   ]
  },
  {
   "cell_type": "markdown",
   "id": "60e3e22d",
   "metadata": {
    "deletable": false,
    "editable": false,
    "id": "60e3e22d"
   },
   "source": [
    "## Предобработка данных"
   ]
  },
  {
   "cell_type": "markdown",
   "id": "03dc170c",
   "metadata": {
    "deletable": false,
    "editable": false,
    "id": "03dc170c"
   },
   "source": [
    "### Удаление пропусков"
   ]
  },
  {
   "cell_type": "markdown",
   "id": "a4f54eef",
   "metadata": {
    "deletable": false,
    "editable": false,
    "id": "a4f54eef"
   },
   "source": [
    "**Задание 4. Выведите количество пропущенных значений для каждого столбца. Используйте комбинацию двух методов.**"
   ]
  },
  {
   "cell_type": "code",
   "execution_count": 5,
   "id": "2dc372b2",
   "metadata": {
    "deletable": false,
    "id": "2dc372b2",
    "outputId": "81f4d817-781c-465c-ed15-91ce4446810d"
   },
   "outputs": [
    {
     "data": {
      "text/plain": [
       "children               0\n",
       "days_employed       2174\n",
       "dob_years              0\n",
       "education              0\n",
       "education_id           0\n",
       "family_status          0\n",
       "family_status_id       0\n",
       "gender                 0\n",
       "income_type            0\n",
       "debt                   0\n",
       "total_income        2174\n",
       "purpose                0\n",
       "dtype: int64"
      ]
     },
     "execution_count": 5,
     "metadata": {},
     "output_type": "execute_result"
    }
   ],
   "source": [
    "data.isna().sum()"
   ]
  },
  {
   "cell_type": "markdown",
   "id": "14f011b1",
   "metadata": {
    "deletable": false,
    "editable": false,
    "id": "14f011b1"
   },
   "source": [
    "**Задание 5. В двух столбцах есть пропущенные значения. Один из них — `days_employed`. Пропуски в этом столбце вы обработаете на следующем этапе. Другой столбец с пропущенными значениями — `total_income` — хранит данные о доходах. На сумму дохода сильнее всего влияет тип занятости, поэтому заполнить пропуски в этом столбце нужно медианным значением по каждому типу из столбца `income_type`. Например, у человека с типом занятости `сотрудник` пропуск в столбце `total_income` должен быть заполнен медианным доходом среди всех записей с тем же типом.**"
   ]
  },
  {
   "cell_type": "code",
   "execution_count": 6,
   "id": "bdabfb6e",
   "metadata": {
    "deletable": false,
    "id": "bdabfb6e"
   },
   "outputs": [],
   "source": [
    "for t in data['income_type'].unique():\n",
    "    data.loc[(data['income_type'] == t) & (data['total_income'].isna()), 'total_income'] = \\\n",
    "    data.loc[(data['income_type'] == t), 'total_income'].median()"
   ]
  },
  {
   "cell_type": "markdown",
   "id": "5be34059",
   "metadata": {
    "deletable": false,
    "editable": false,
    "id": "5be34059"
   },
   "source": [
    "### Обработка аномальных значений"
   ]
  },
  {
   "cell_type": "markdown",
   "id": "a87606cb",
   "metadata": {
    "deletable": false,
    "editable": false,
    "id": "a87606cb"
   },
   "source": [
    "**Задание 6. В данных могут встречаться артефакты (аномалии) — значения, которые не отражают действительность и появились по какой-то ошибке. таким артефактом будет отрицательное количество дней трудового стажа в столбце `days_employed`. Для реальных данных это нормально. Обработайте значения в этом столбце: замените все отрицательные значения положительными с помощью метода `abs()`.**"
   ]
  },
  {
   "cell_type": "code",
   "execution_count": 7,
   "id": "020c46cc",
   "metadata": {
    "deletable": false,
    "id": "020c46cc"
   },
   "outputs": [],
   "source": [
    "data['days_employed'] = data['days_employed'].abs()"
   ]
  },
  {
   "cell_type": "markdown",
   "id": "45538a3a",
   "metadata": {
    "deletable": false,
    "editable": false,
    "id": "45538a3a"
   },
   "source": [
    "**Задание 7. Для каждого типа занятости выведите медианное значение трудового стажа `days_employed` в днях.**"
   ]
  },
  {
   "cell_type": "code",
   "execution_count": 8,
   "id": "cd3e6328",
   "metadata": {
    "deletable": false,
    "id": "cd3e6328",
    "outputId": "801ef80e-522b-4668-f34e-565af7432bcf"
   },
   "outputs": [
    {
     "data": {
      "text/plain": [
       "income_type\n",
       "безработный        366413.652744\n",
       "в декрете            3296.759962\n",
       "госслужащий          2689.368353\n",
       "компаньон            1547.382223\n",
       "пенсионер          365213.306266\n",
       "предприниматель       520.848083\n",
       "сотрудник            1574.202821\n",
       "студент               578.751554\n",
       "Name: days_employed, dtype: float64"
      ]
     },
     "execution_count": 8,
     "metadata": {},
     "output_type": "execute_result"
    }
   ],
   "source": [
    "data.groupby('income_type')['days_employed'].agg('median')"
   ]
  },
  {
   "cell_type": "markdown",
   "id": "90c5f058",
   "metadata": {
    "deletable": false,
    "editable": false,
    "id": "90c5f058"
   },
   "source": [
    "У двух типов (безработные и пенсионеры) получатся аномально большие значения. Исправить такие значения сложно, поэтому оставьте их как есть."
   ]
  },
  {
   "cell_type": "markdown",
   "id": "9652e50d",
   "metadata": {
    "deletable": false,
    "editable": false,
    "id": "9652e50d"
   },
   "source": [
    "**Задание 8. Выведите перечень уникальных значений столбца `children`.**"
   ]
  },
  {
   "cell_type": "code",
   "execution_count": 9,
   "id": "dbb37b8e",
   "metadata": {
    "deletable": false,
    "id": "dbb37b8e",
    "outputId": "6975b15c-7f95-4697-d16d-a0c79b657b03"
   },
   "outputs": [
    {
     "data": {
      "text/plain": [
       "array([ 1,  0,  3,  2, -1,  4, 20,  5], dtype=int64)"
      ]
     },
     "execution_count": 9,
     "metadata": {},
     "output_type": "execute_result"
    }
   ],
   "source": [
    "data['children'].unique()"
   ]
  },
  {
   "cell_type": "markdown",
   "id": "2b8b0715",
   "metadata": {
    "deletable": false,
    "editable": false,
    "id": "2b8b0715"
   },
   "source": [
    "**Задание 9. В столбце `children` есть два аномальных значения. Удалите строки, в которых встречаются такие аномальные значения из датафрейма `data`.**"
   ]
  },
  {
   "cell_type": "code",
   "execution_count": 10,
   "id": "20009df8",
   "metadata": {
    "deletable": false,
    "id": "20009df8"
   },
   "outputs": [],
   "source": [
    "data = data[(data['children'] != -1) & (data['children'] != 20)]"
   ]
  },
  {
   "cell_type": "markdown",
   "id": "8c6ac9f1",
   "metadata": {
    "deletable": false,
    "editable": false,
    "id": "8c6ac9f1"
   },
   "source": [
    "**Задание 10. Ещё раз выведите перечень уникальных значений столбца `children`, чтобы убедиться, что артефакты удалены.**"
   ]
  },
  {
   "cell_type": "code",
   "execution_count": 11,
   "id": "07337b81",
   "metadata": {
    "deletable": false,
    "id": "07337b81",
    "outputId": "b2097101-d49d-44d9-901b-32a65c9463d1"
   },
   "outputs": [
    {
     "data": {
      "text/plain": [
       "array([1, 0, 3, 2, 4, 5], dtype=int64)"
      ]
     },
     "execution_count": 11,
     "metadata": {},
     "output_type": "execute_result"
    }
   ],
   "source": [
    "data['children'].unique()"
   ]
  },
  {
   "cell_type": "markdown",
   "id": "ee3f52d4",
   "metadata": {
    "deletable": false,
    "editable": false,
    "id": "ee3f52d4"
   },
   "source": [
    "### Удаление пропусков (продолжение)"
   ]
  },
  {
   "cell_type": "markdown",
   "id": "a700b0e4",
   "metadata": {
    "deletable": false,
    "editable": false,
    "id": "a700b0e4"
   },
   "source": [
    "**Задание 11. Заполните пропуски в столбце `days_employed` медианными значениями по каждого типа занятости `income_type`.**"
   ]
  },
  {
   "cell_type": "code",
   "execution_count": 12,
   "id": "61946b83",
   "metadata": {
    "deletable": false,
    "id": "61946b83"
   },
   "outputs": [],
   "source": [
    "for t in data['income_type'].unique():\n",
    "    data.loc[(data['income_type'] == t) & (data['days_employed'].isna()), 'days_employed'] = \\\n",
    "    data.loc[(data['income_type'] == t), 'days_employed'].median()"
   ]
  },
  {
   "cell_type": "markdown",
   "id": "550dcd9b",
   "metadata": {
    "deletable": false,
    "editable": false,
    "id": "550dcd9b"
   },
   "source": [
    "**Задание 12. Убедитесь, что все пропуски заполнены. Проверьте себя и ещё раз выведите количество пропущенных значений для каждого столбца с помощью двух методов.**"
   ]
  },
  {
   "cell_type": "code",
   "execution_count": 13,
   "id": "937c7014",
   "metadata": {
    "deletable": false,
    "id": "937c7014",
    "outputId": "8da1e4e1-358e-4e87-98c9-f261bce0a7b2"
   },
   "outputs": [
    {
     "data": {
      "text/plain": [
       "children            0\n",
       "days_employed       0\n",
       "dob_years           0\n",
       "education           0\n",
       "education_id        0\n",
       "family_status       0\n",
       "family_status_id    0\n",
       "gender              0\n",
       "income_type         0\n",
       "debt                0\n",
       "total_income        0\n",
       "purpose             0\n",
       "dtype: int64"
      ]
     },
     "execution_count": 13,
     "metadata": {},
     "output_type": "execute_result"
    }
   ],
   "source": [
    "data.isna().sum()"
   ]
  },
  {
   "cell_type": "markdown",
   "id": "d522e295",
   "metadata": {
    "deletable": false,
    "editable": false,
    "id": "d522e295"
   },
   "source": [
    "### Изменение типов данных"
   ]
  },
  {
   "cell_type": "markdown",
   "id": "c229c581",
   "metadata": {
    "deletable": false,
    "editable": false,
    "id": "c229c581"
   },
   "source": [
    "**Задание 13. Замените вещественный тип данных в столбце `total_income` на целочисленный с помощью метода `astype()`.**"
   ]
  },
  {
   "cell_type": "code",
   "execution_count": 14,
   "id": "31036462",
   "metadata": {
    "deletable": false,
    "id": "31036462"
   },
   "outputs": [],
   "source": [
    "data['total_income'] = data['total_income'].astype(int)"
   ]
  },
  {
   "cell_type": "markdown",
   "id": "b8e3d1d9",
   "metadata": {
    "deletable": false,
    "editable": false,
    "id": "b8e3d1d9"
   },
   "source": [
    "### Обработка дубликатов"
   ]
  },
  {
   "cell_type": "markdown",
   "id": "9be53c49",
   "metadata": {
    "deletable": false,
    "editable": false,
    "id": "9be53c49"
   },
   "source": [
    "**Задание 14. Обработайте неявные дубликаты в столбце `education`. В этом столбце есть одни и те же значения, но записанные по-разному: с использованием заглавных и строчных букв. Приведите их к нижнему регистру.**"
   ]
  },
  {
   "cell_type": "code",
   "execution_count": 15,
   "id": "d89e73e1",
   "metadata": {
    "deletable": false,
    "id": "d89e73e1"
   },
   "outputs": [],
   "source": [
    "data['education'] = data['education'].str.lower()"
   ]
  },
  {
   "cell_type": "markdown",
   "id": "01d4500e",
   "metadata": {
    "deletable": false,
    "editable": false,
    "id": "01d4500e"
   },
   "source": [
    "**Задание 15. Выведите на экран количество строк-дубликатов в данных. Если такие строки присутствуют, удалите их.**"
   ]
  },
  {
   "cell_type": "code",
   "execution_count": 16,
   "id": "e10efb23",
   "metadata": {
    "deletable": false,
    "id": "e10efb23",
    "outputId": "9684deba-1934-42d1-99e1-cda61740f822"
   },
   "outputs": [
    {
     "data": {
      "text/plain": [
       "71"
      ]
     },
     "execution_count": 16,
     "metadata": {},
     "output_type": "execute_result"
    }
   ],
   "source": [
    "data.duplicated().sum()"
   ]
  },
  {
   "cell_type": "code",
   "execution_count": 17,
   "id": "df853f20",
   "metadata": {
    "deletable": false,
    "id": "df853f20"
   },
   "outputs": [],
   "source": [
    "data = data.drop_duplicates()"
   ]
  },
  {
   "cell_type": "markdown",
   "id": "627be38f",
   "metadata": {
    "deletable": false,
    "editable": false,
    "id": "627be38f"
   },
   "source": [
    "### Категоризация данных"
   ]
  },
  {
   "cell_type": "markdown",
   "id": "4684c3e0",
   "metadata": {
    "deletable": false,
    "editable": false,
    "id": "4684c3e0"
   },
   "source": [
    "**Задание 16. На основании диапазонов, указанных ниже, создайте в датафрейме `data` столбец `total_income_category` с категориями:**\n",
    "\n",
    "- 0–30000 — `'E'`;\n",
    "- 30001–50000 — `'D'`;\n",
    "- 50001–200000 — `'C'`;\n",
    "- 200001–1000000 — `'B'`;\n",
    "- 1000001 и выше — `'A'`.\n",
    "\n",
    "\n",
    "**Например, кредитополучателю с доходом 25000 нужно назначить категорию `'E'`, а клиенту, получающему 235000, — `'B'`. Используйте собственную функцию с именем `categorize_income()` и метод `apply()`.**"
   ]
  },
  {
   "cell_type": "code",
   "execution_count": 18,
   "id": "78965238",
   "metadata": {
    "deletable": false,
    "id": "78965238"
   },
   "outputs": [],
   "source": [
    "def categorize_income(income):\n",
    "    try:\n",
    "        if 0 <= income <= 30000:\n",
    "            return 'E'\n",
    "        elif 30001 <= income <= 50000:\n",
    "            return 'D'\n",
    "        elif 50001 <= income <= 200000:\n",
    "            return 'C'\n",
    "        elif 200001 <= income <= 1000000:\n",
    "            return 'B'\n",
    "        elif income >= 1000001:\n",
    "            return 'A'\n",
    "    except:\n",
    "        pass"
   ]
  },
  {
   "cell_type": "code",
   "execution_count": 19,
   "id": "0980ada1",
   "metadata": {
    "deletable": false,
    "id": "0980ada1"
   },
   "outputs": [],
   "source": [
    "data['total_income_category'] = data['total_income'].apply(categorize_income)"
   ]
  },
  {
   "cell_type": "markdown",
   "id": "9917bba0",
   "metadata": {
    "deletable": false,
    "editable": false,
    "id": "9917bba0"
   },
   "source": [
    "**Задание 17. Выведите на экран перечень уникальных целей взятия кредита из столбца `purpose`.**"
   ]
  },
  {
   "cell_type": "code",
   "execution_count": 20,
   "id": "ee07b65e",
   "metadata": {
    "deletable": false,
    "id": "ee07b65e",
    "outputId": "673c12d9-7d7e-4ae0-9812-c622c89dd244"
   },
   "outputs": [
    {
     "data": {
      "text/plain": [
       "array(['покупка жилья', 'приобретение автомобиля',\n",
       "       'дополнительное образование', 'сыграть свадьбу',\n",
       "       'операции с жильем', 'образование', 'на проведение свадьбы',\n",
       "       'покупка жилья для семьи', 'покупка недвижимости',\n",
       "       'покупка коммерческой недвижимости', 'покупка жилой недвижимости',\n",
       "       'строительство собственной недвижимости', 'недвижимость',\n",
       "       'строительство недвижимости', 'на покупку подержанного автомобиля',\n",
       "       'на покупку своего автомобиля',\n",
       "       'операции с коммерческой недвижимостью',\n",
       "       'строительство жилой недвижимости', 'жилье',\n",
       "       'операции со своей недвижимостью', 'автомобили',\n",
       "       'заняться образованием', 'сделка с подержанным автомобилем',\n",
       "       'получение образования', 'автомобиль', 'свадьба',\n",
       "       'получение дополнительного образования', 'покупка своего жилья',\n",
       "       'операции с недвижимостью', 'получение высшего образования',\n",
       "       'свой автомобиль', 'сделка с автомобилем',\n",
       "       'профильное образование', 'высшее образование',\n",
       "       'покупка жилья для сдачи', 'на покупку автомобиля', 'ремонт жилью',\n",
       "       'заняться высшим образованием'], dtype=object)"
      ]
     },
     "execution_count": 20,
     "metadata": {},
     "output_type": "execute_result"
    }
   ],
   "source": [
    "data['purpose'].unique()"
   ]
  },
  {
   "cell_type": "markdown",
   "id": "52b79d56",
   "metadata": {
    "deletable": false,
    "editable": false,
    "id": "52b79d56"
   },
   "source": [
    "**Задание 18. Создайте функцию, которая на основании данных из столбца `purpose` сформирует новый столбец `purpose_category`, в который войдут следующие категории:**\n",
    "\n",
    "- `'операции с автомобилем'`,\n",
    "- `'операции с недвижимостью'`,\n",
    "- `'проведение свадьбы'`,\n",
    "- `'получение образования'`.\n",
    "\n",
    "**Например, если в столбце `purpose` находится подстрока `'на покупку автомобиля'`, то в столбце `purpose_category` должна появиться строка `'операции с автомобилем'`.**\n",
    "\n",
    "**Используйте собственную функцию с именем `categorize_purpose()` и метод `apply()`. Изучите данные в столбце `purpose` и определите, какие подстроки помогут вам правильно определить категорию.**"
   ]
  },
  {
   "cell_type": "code",
   "execution_count": 21,
   "id": "be41da5d",
   "metadata": {
    "deletable": false,
    "id": "be41da5d"
   },
   "outputs": [],
   "source": [
    "def categorize_purpose(row):\n",
    "    try:\n",
    "        if 'автом' in row:\n",
    "            return 'операции с автомобилем'\n",
    "        elif 'жил' in row or 'недвиж' in row:\n",
    "            return 'операции с недвижимостью'\n",
    "        elif 'свад' in row:\n",
    "            return 'проведение свадьбы'\n",
    "        elif 'образов' in row:\n",
    "            return 'получение образования'\n",
    "    except:\n",
    "        return 'нет категории'"
   ]
  },
  {
   "cell_type": "code",
   "execution_count": 22,
   "id": "94c4a19a",
   "metadata": {
    "deletable": false,
    "id": "94c4a19a"
   },
   "outputs": [],
   "source": [
    "data['purpose_category'] = data['purpose'].apply(categorize_purpose)"
   ]
  },
  {
   "cell_type": "markdown",
   "id": "3d596c34",
   "metadata": {
    "deletable": false,
    "editable": false,
    "id": "3d596c34"
   },
   "source": [
    "### Шаг 3. Исследуйте данные и ответьте на вопросы"
   ]
  },
  {
   "cell_type": "markdown",
   "id": "648db036",
   "metadata": {
    "deletable": false,
    "editable": false,
    "id": "648db036"
   },
   "source": [
    "#### 3.1 Есть ли зависимость между количеством детей и возвратом кредита в срок?"
   ]
  },
  {
   "cell_type": "code",
   "execution_count": 23,
   "id": "7fcff25e",
   "metadata": {
    "deletable": false,
    "id": "7fcff25e"
   },
   "outputs": [
    {
     "data": {
      "text/html": [
       "<div>\n",
       "<style scoped>\n",
       "    .dataframe tbody tr th:only-of-type {\n",
       "        vertical-align: middle;\n",
       "    }\n",
       "\n",
       "    .dataframe tbody tr th {\n",
       "        vertical-align: top;\n",
       "    }\n",
       "\n",
       "    .dataframe thead th {\n",
       "        text-align: right;\n",
       "    }\n",
       "</style>\n",
       "<table border=\"1\" class=\"dataframe\">\n",
       "  <thead>\n",
       "    <tr style=\"text-align: right;\">\n",
       "      <th></th>\n",
       "      <th>Количество взятых кредитов</th>\n",
       "      <th>Количество просроченных кредитов</th>\n",
       "      <th>Соотношение</th>\n",
       "    </tr>\n",
       "    <tr>\n",
       "      <th>Количество детей</th>\n",
       "      <th></th>\n",
       "      <th></th>\n",
       "      <th></th>\n",
       "    </tr>\n",
       "  </thead>\n",
       "  <tbody>\n",
       "    <tr>\n",
       "      <th>0</th>\n",
       "      <td>14091</td>\n",
       "      <td>1063</td>\n",
       "      <td>0.075438</td>\n",
       "    </tr>\n",
       "    <tr>\n",
       "      <th>1</th>\n",
       "      <td>4808</td>\n",
       "      <td>444</td>\n",
       "      <td>0.092346</td>\n",
       "    </tr>\n",
       "    <tr>\n",
       "      <th>2</th>\n",
       "      <td>2052</td>\n",
       "      <td>194</td>\n",
       "      <td>0.094542</td>\n",
       "    </tr>\n",
       "    <tr>\n",
       "      <th>3</th>\n",
       "      <td>330</td>\n",
       "      <td>27</td>\n",
       "      <td>0.081818</td>\n",
       "    </tr>\n",
       "    <tr>\n",
       "      <th>4</th>\n",
       "      <td>41</td>\n",
       "      <td>4</td>\n",
       "      <td>0.097561</td>\n",
       "    </tr>\n",
       "    <tr>\n",
       "      <th>5</th>\n",
       "      <td>9</td>\n",
       "      <td>0</td>\n",
       "      <td>0.000000</td>\n",
       "    </tr>\n",
       "  </tbody>\n",
       "</table>\n",
       "</div>"
      ],
      "text/plain": [
       "                  Количество взятых кредитов  \\\n",
       "Количество детей                               \n",
       "0                                      14091   \n",
       "1                                       4808   \n",
       "2                                       2052   \n",
       "3                                        330   \n",
       "4                                         41   \n",
       "5                                          9   \n",
       "\n",
       "                  Количество просроченных кредитов  Соотношение  \n",
       "Количество детей                                                 \n",
       "0                                             1063     0.075438  \n",
       "1                                              444     0.092346  \n",
       "2                                              194     0.094542  \n",
       "3                                               27     0.081818  \n",
       "4                                                4     0.097561  \n",
       "5                                                0     0.000000  "
      ]
     },
     "execution_count": 23,
     "metadata": {},
     "output_type": "execute_result"
    }
   ],
   "source": [
    "# Ваш код будет здесь. Вы можете создавать новые ячейки.\n",
    "\n",
    "data2 = data.rename(columns={'children':'Количество детей'})\n",
    "data_pivot = data2.pivot_table(index=['Количество детей'], values = 'debt', aggfunc = {'count','sum'})\n",
    "data_pivot['ratio'] = data_pivot['sum'] / data_pivot['count']\n",
    "data_pivot = data_pivot.rename(columns={'count':'Количество взятых кредитов','sum':'Количество просроченных кредитов', 'ratio':'Соотношение'})\n",
    "data_pivot"
   ]
  },
  {
   "cell_type": "markdown",
   "id": "2eb9088e",
   "metadata": {
    "deletable": false,
    "id": "2eb9088e"
   },
   "source": [
    "**Вывод: на основании исследования выявлено что количество детей у заёмщика влияет на его платёжную дисциплину. Заёмщики, имеющие одного или двух детей, допускают просрочки по кредитным платежам существенно чаще чем заёмщики, не имеющие детей. Это можно объяснить существенной разницей в финансовой нагрузке между категориями заёмщиков с детьми и без детей. Таким образом прослеживается прямая зависимость между количеством детей и возвратом кредита в срок.\n",
    "При формировании вывода не учитывались заёмщики с тремя, четырьмя и пятью детьми ввиду их небольшого количества и как следствие слабой репрезентивностью данных категорий заёмщиков.**"
   ]
  },
  {
   "cell_type": "markdown",
   "id": "74c9b3a7",
   "metadata": {
    "deletable": false,
    "editable": false,
    "id": "74c9b3a7"
   },
   "source": [
    "#### 3.2 Есть ли зависимость между семейным положением и возвратом кредита в срок?"
   ]
  },
  {
   "cell_type": "code",
   "execution_count": 24,
   "id": "8098ab3b",
   "metadata": {
    "deletable": false,
    "id": "8098ab3b"
   },
   "outputs": [
    {
     "data": {
      "text/html": [
       "<div>\n",
       "<style scoped>\n",
       "    .dataframe tbody tr th:only-of-type {\n",
       "        vertical-align: middle;\n",
       "    }\n",
       "\n",
       "    .dataframe tbody tr th {\n",
       "        vertical-align: top;\n",
       "    }\n",
       "\n",
       "    .dataframe thead th {\n",
       "        text-align: right;\n",
       "    }\n",
       "</style>\n",
       "<table border=\"1\" class=\"dataframe\">\n",
       "  <thead>\n",
       "    <tr style=\"text-align: right;\">\n",
       "      <th></th>\n",
       "      <th>Количество взятых кредитов</th>\n",
       "      <th>Количество просроченных кредитов</th>\n",
       "      <th>Соотношение</th>\n",
       "    </tr>\n",
       "    <tr>\n",
       "      <th>Семейное положение</th>\n",
       "      <th></th>\n",
       "      <th></th>\n",
       "      <th></th>\n",
       "    </tr>\n",
       "  </thead>\n",
       "  <tbody>\n",
       "    <tr>\n",
       "      <th>Не женат / не замужем</th>\n",
       "      <td>2796</td>\n",
       "      <td>273</td>\n",
       "      <td>0.097639</td>\n",
       "    </tr>\n",
       "    <tr>\n",
       "      <th>в разводе</th>\n",
       "      <td>1189</td>\n",
       "      <td>84</td>\n",
       "      <td>0.070648</td>\n",
       "    </tr>\n",
       "    <tr>\n",
       "      <th>вдовец / вдова</th>\n",
       "      <td>951</td>\n",
       "      <td>63</td>\n",
       "      <td>0.066246</td>\n",
       "    </tr>\n",
       "    <tr>\n",
       "      <th>гражданский брак</th>\n",
       "      <td>4134</td>\n",
       "      <td>385</td>\n",
       "      <td>0.093130</td>\n",
       "    </tr>\n",
       "    <tr>\n",
       "      <th>женат / замужем</th>\n",
       "      <td>12261</td>\n",
       "      <td>927</td>\n",
       "      <td>0.075606</td>\n",
       "    </tr>\n",
       "  </tbody>\n",
       "</table>\n",
       "</div>"
      ],
      "text/plain": [
       "                       Количество взятых кредитов  \\\n",
       "Семейное положение                                  \n",
       "Не женат / не замужем                        2796   \n",
       "в разводе                                    1189   \n",
       "вдовец / вдова                                951   \n",
       "гражданский брак                             4134   \n",
       "женат / замужем                             12261   \n",
       "\n",
       "                       Количество просроченных кредитов  Соотношение  \n",
       "Семейное положение                                                    \n",
       "Не женат / не замужем                               273     0.097639  \n",
       "в разводе                                            84     0.070648  \n",
       "вдовец / вдова                                       63     0.066246  \n",
       "гражданский брак                                    385     0.093130  \n",
       "женат / замужем                                     927     0.075606  "
      ]
     },
     "execution_count": 24,
     "metadata": {},
     "output_type": "execute_result"
    }
   ],
   "source": [
    "# Ваш код будет здесь. Вы можете создавать новые ячейки.\n",
    "data2 = data.rename(columns={'family_status':'Семейное положение'})\n",
    "data_pivot = data2.pivot_table(index=['Семейное положение'], values = 'debt', aggfunc = {'count','sum'})\n",
    "data_pivot['ratio'] = data_pivot['sum'] / data_pivot['count']\n",
    "data_pivot = data_pivot.rename(columns={'count':'Количество взятых кредитов','sum':'Количество просроченных кредитов', 'ratio':'Соотношение'})\n",
    "data_pivot"
   ]
  },
  {
   "cell_type": "markdown",
   "id": "c389ca63",
   "metadata": {
    "deletable": false,
    "id": "c389ca63"
   },
   "source": [
    "**Вывод: на основании исследования выявлено что самые платёжеспособные заёмщики - это ранее находящиеся в браке. Это можно объяснить зрелым возрастом, высокой степенью самостоятельности и ответственности. Заёмщики, находящиеся в браке, имеют среднюю степень платежеспособности. Это можно объяснить наличием детей и как следствие ограниченным личным бюджетом. Заёмщики, находящиеся в гражданском браке либо не состоящие в браке, занимают наименьшую долю платежеспособности. Это можно объяснить молодым возрастом и нестабильными источниками дохода. В целом можно говорить о зависимости семейного положения заёмщика от его платёжеспособности.**"
   ]
  },
  {
   "cell_type": "markdown",
   "id": "9529de68",
   "metadata": {
    "deletable": false,
    "editable": false,
    "id": "9529de68"
   },
   "source": [
    "#### 3.3 Есть ли зависимость между уровнем дохода и возвратом кредита в срок?"
   ]
  },
  {
   "cell_type": "code",
   "execution_count": 25,
   "id": "8787f44a",
   "metadata": {
    "deletable": false,
    "id": "8787f44a"
   },
   "outputs": [
    {
     "data": {
      "text/html": [
       "<div>\n",
       "<style scoped>\n",
       "    .dataframe tbody tr th:only-of-type {\n",
       "        vertical-align: middle;\n",
       "    }\n",
       "\n",
       "    .dataframe tbody tr th {\n",
       "        vertical-align: top;\n",
       "    }\n",
       "\n",
       "    .dataframe thead th {\n",
       "        text-align: right;\n",
       "    }\n",
       "</style>\n",
       "<table border=\"1\" class=\"dataframe\">\n",
       "  <thead>\n",
       "    <tr style=\"text-align: right;\">\n",
       "      <th></th>\n",
       "      <th>Количество взятых кредитов</th>\n",
       "      <th>Количество просроченных кредитов</th>\n",
       "      <th>Соотношение</th>\n",
       "    </tr>\n",
       "    <tr>\n",
       "      <th>Уровень дохода</th>\n",
       "      <th></th>\n",
       "      <th></th>\n",
       "      <th></th>\n",
       "    </tr>\n",
       "  </thead>\n",
       "  <tbody>\n",
       "    <tr>\n",
       "      <th>A</th>\n",
       "      <td>25</td>\n",
       "      <td>2</td>\n",
       "      <td>0.080000</td>\n",
       "    </tr>\n",
       "    <tr>\n",
       "      <th>B</th>\n",
       "      <td>5014</td>\n",
       "      <td>354</td>\n",
       "      <td>0.070602</td>\n",
       "    </tr>\n",
       "    <tr>\n",
       "      <th>C</th>\n",
       "      <td>15921</td>\n",
       "      <td>1353</td>\n",
       "      <td>0.084982</td>\n",
       "    </tr>\n",
       "    <tr>\n",
       "      <th>D</th>\n",
       "      <td>349</td>\n",
       "      <td>21</td>\n",
       "      <td>0.060172</td>\n",
       "    </tr>\n",
       "    <tr>\n",
       "      <th>E</th>\n",
       "      <td>22</td>\n",
       "      <td>2</td>\n",
       "      <td>0.090909</td>\n",
       "    </tr>\n",
       "  </tbody>\n",
       "</table>\n",
       "</div>"
      ],
      "text/plain": [
       "                Количество взятых кредитов  Количество просроченных кредитов  \\\n",
       "Уровень дохода                                                                 \n",
       "A                                       25                                 2   \n",
       "B                                     5014                               354   \n",
       "C                                    15921                              1353   \n",
       "D                                      349                                21   \n",
       "E                                       22                                 2   \n",
       "\n",
       "                Соотношение  \n",
       "Уровень дохода               \n",
       "A                  0.080000  \n",
       "B                  0.070602  \n",
       "C                  0.084982  \n",
       "D                  0.060172  \n",
       "E                  0.090909  "
      ]
     },
     "execution_count": 25,
     "metadata": {},
     "output_type": "execute_result"
    }
   ],
   "source": [
    "# Ваш код будет здесь. Вы можете создавать новые ячейки.\n",
    "data2 = data.rename(columns={'total_income_category':'Уровень дохода'})\n",
    "data_pivot = data2.pivot_table(index=['Уровень дохода'], values = 'debt', aggfunc = {'count','sum'})\n",
    "data_pivot['ratio'] = data_pivot['sum'] / data_pivot['count']\n",
    "data_pivot = data_pivot.rename(columns={'count':'Количество взятых кредитов','sum':'Количество просроченных кредитов', 'ratio':'Соотношение'})\n",
    "data_pivot"
   ]
  },
  {
   "cell_type": "markdown",
   "id": "6dd14b57",
   "metadata": {
    "deletable": false,
    "id": "6dd14b57"
   },
   "source": [
    "**Вывод: на основании исследования выявлено что уровень дохода заёмщика прямо влияет на его платежную дисциплину. Замечено что количество невозвратов кредитов выше у заёмщиков, имеющих месячный доход от 50000 до 200000 рублей чем у заёмщиков, имеющих месячный доход от 200000 до 1000000 рублей. Это можно объяснить гораздо большим опытом планирования личного бюджета в последней указанной категории заёмщиков. При формировании вывода не учитывались заёмщики со следующими типами месячного дохода:\n",
    "-более 1000000 рублей\n",
    "-от 30000 до 50000 рублей\n",
    "-до 30000 рублей,\n",
    "ввиду их небольшого количества и как следствие слабой репрезентивностью данных категорий заёмщиков.**"
   ]
  },
  {
   "cell_type": "markdown",
   "id": "1dcc9b12",
   "metadata": {
    "deletable": false,
    "editable": false,
    "id": "1dcc9b12"
   },
   "source": [
    "#### 3.4 Как разные цели кредита влияют на его возврат в срок?"
   ]
  },
  {
   "cell_type": "code",
   "execution_count": 26,
   "id": "c602bc8b",
   "metadata": {
    "deletable": false,
    "id": "c602bc8b"
   },
   "outputs": [
    {
     "data": {
      "text/html": [
       "<div>\n",
       "<style scoped>\n",
       "    .dataframe tbody tr th:only-of-type {\n",
       "        vertical-align: middle;\n",
       "    }\n",
       "\n",
       "    .dataframe tbody tr th {\n",
       "        vertical-align: top;\n",
       "    }\n",
       "\n",
       "    .dataframe thead th {\n",
       "        text-align: right;\n",
       "    }\n",
       "</style>\n",
       "<table border=\"1\" class=\"dataframe\">\n",
       "  <thead>\n",
       "    <tr style=\"text-align: right;\">\n",
       "      <th></th>\n",
       "      <th>Количество взятых кредитов</th>\n",
       "      <th>Количество просроченных кредитов</th>\n",
       "      <th>Соотношение</th>\n",
       "    </tr>\n",
       "    <tr>\n",
       "      <th>Цель получения кредита</th>\n",
       "      <th></th>\n",
       "      <th></th>\n",
       "      <th></th>\n",
       "    </tr>\n",
       "  </thead>\n",
       "  <tbody>\n",
       "    <tr>\n",
       "      <th>операции с автомобилем</th>\n",
       "      <td>4279</td>\n",
       "      <td>400</td>\n",
       "      <td>0.093480</td>\n",
       "    </tr>\n",
       "    <tr>\n",
       "      <th>операции с недвижимостью</th>\n",
       "      <td>10751</td>\n",
       "      <td>780</td>\n",
       "      <td>0.072551</td>\n",
       "    </tr>\n",
       "    <tr>\n",
       "      <th>получение образования</th>\n",
       "      <td>3988</td>\n",
       "      <td>369</td>\n",
       "      <td>0.092528</td>\n",
       "    </tr>\n",
       "    <tr>\n",
       "      <th>проведение свадьбы</th>\n",
       "      <td>2313</td>\n",
       "      <td>183</td>\n",
       "      <td>0.079118</td>\n",
       "    </tr>\n",
       "  </tbody>\n",
       "</table>\n",
       "</div>"
      ],
      "text/plain": [
       "                          Количество взятых кредитов  \\\n",
       "Цель получения кредита                                 \n",
       "операции с автомобилем                          4279   \n",
       "операции с недвижимостью                       10751   \n",
       "получение образования                           3988   \n",
       "проведение свадьбы                              2313   \n",
       "\n",
       "                          Количество просроченных кредитов  Соотношение  \n",
       "Цель получения кредита                                                   \n",
       "операции с автомобилем                                 400     0.093480  \n",
       "операции с недвижимостью                               780     0.072551  \n",
       "получение образования                                  369     0.092528  \n",
       "проведение свадьбы                                     183     0.079118  "
      ]
     },
     "execution_count": 26,
     "metadata": {},
     "output_type": "execute_result"
    }
   ],
   "source": [
    "# Ваш код будет здесь. Вы можете создавать новые ячейки.\n",
    "\n",
    "data2 = data.rename(columns={'purpose_category':'Цель получения кредита'})\n",
    "data_pivot = data2.pivot_table(index=['Цель получения кредита'], values = 'debt', aggfunc = {'count','sum'})\n",
    "data_pivot['ratio'] = data_pivot['sum'] / data_pivot['count']\n",
    "data_pivot = data_pivot.rename(columns={'count':'Количество взятых кредитов','sum':'Количество просроченных кредитов', 'ratio':'Соотношение'})\n",
    "data_pivot"
   ]
  },
  {
   "cell_type": "markdown",
   "id": "cf05ed63",
   "metadata": {
    "deletable": false,
    "id": "cf05ed63"
   },
   "source": [
    "**Вывод: на основании исследования выявлено что самые платёжеспособные заёмщики - люди, принимающие решение о получении кредита на операции с недвижимостью. Это можно объяснить высокой степенью ответственности за принятие решение о покупке недвижимости как для улучшения жилищных условий так и как средства для инвестирования. Также к платежеспособным заёмщикам можно отнести людей, принимающих решение о получении кредита на проведение свадьбы. Это опять же связано с высокой степенью ответственности за данное событие. Степень платёжеспособности ниже у заёмщиков, взявших кредит на операции с автомобилем и получение образования. Это можно объяснить не всегда запланированным, а часто очень быстрым получением данных видов кредита. В целом зависомость прослеживается.**"
   ]
  },
  {
   "cell_type": "markdown",
   "id": "46c1f10b",
   "metadata": {
    "deletable": false,
    "editable": false,
    "id": "46c1f10b"
   },
   "source": [
    "#### 3.5 Приведите возможные причины появления пропусков в исходных данных."
   ]
  },
  {
   "cell_type": "markdown",
   "id": "3697d2a9",
   "metadata": {
    "deletable": false,
    "id": "3697d2a9"
   },
   "source": [
    "**Ответ: пропуски были обнаружены в таких значениях как трудовой стаж и ежемесячный доход. Это можно объяснить как человеческим фактором в заполнении так и нежеланием некоторых заёмщиков отвечать на данные вопросы. Некоторые молодые заёмщики возможно объективно не смогли ответить на данные вопросы ввиду отсутствия трудового стажа и как следствие стабильного источника дохода.**"
   ]
  },
  {
   "cell_type": "markdown",
   "id": "3137d257",
   "metadata": {
    "deletable": false,
    "editable": false,
    "id": "3137d257"
   },
   "source": [
    "#### 3.6 Объясните, почему заполнить пропуски медианным значением — лучшее решение для количественных переменных."
   ]
  },
  {
   "cell_type": "markdown",
   "id": "cf40012a",
   "metadata": {
    "deletable": false,
    "id": "cf40012a"
   },
   "source": [
    "**Ответ: среднее значение некорректно характеризует данные в том случае, когда некоторые количественные значения сильно отличаются от большинства других. Медианное значение в этом случае более объективно.** "
   ]
  },
  {
   "cell_type": "markdown",
   "id": "57bc304e",
   "metadata": {
    "deletable": false,
    "editable": false,
    "id": "57bc304e"
   },
   "source": [
    "### Шаг 4: общий вывод."
   ]
  },
  {
   "cell_type": "markdown",
   "id": "1ab75d1c",
   "metadata": {
    "deletable": false,
    "id": "1ab75d1c"
   },
   "source": [
    "**В ходе исследований были изучены полученные данные, обработаны и заполнены пропуски, удалены дубликаты, заёмщики были объединены в группы по разным параметрам.\n",
    "На основании проведённых исследований можно сделать вывод о том что платёжеспособность заёмщика зависит не только от его месячного уровня дохода, но так же и от других параметров как семейное положение, количество детей и цель получения кредита.\n",
    "Если говорить про уровень дохода, то здесь можно сделать промежуточный вывод что платёжная дисциплина гораздо выше у заёмщиков, имеющих месячный доход от 50000 рублей и выше. И при увеличении месячного дохода показатель кредитной дисциплины только повышается. Однако определить зависимость кредитной дисциплины к уровню дохода до 50000 рублей не представилось возможным ввиду ограниченной выборки данных категорий уровня дохода.\n",
    "Если говорить про количество детей, то здесь можно сделать вывод что заёмщики, не имеющие детей - самые дисциплинированные. Далее если ранжировать уровень дисциплины, то последовательно идут заёмщики с одним ребенков и затем заёмщики с двумя детьми. Далее корреляция сложно устанавливается поскольку выборки заёмщиков с тремя, четырьми и пятью детьми крайне малы. Но в целом можно сделать вывод что количество детей влияет на кредитную дисциплину.\n",
    "Если говорить про семейное положение, здесь можно сделать вывод что одинокие заёмщики, но имеющие опыт семейных отношений - самые дисциплинированные. Семейные отношения придают дополнительную ответственность в принятии финансовых решений и вместе с тем у одиноких заёмщиков гораздо меньше незапланированных личных расходов. Это подтвержается тем что на третьем месте по кредитной дисциплинированности идут заёмщики в статусах женат/замужем. У них также высокая степень финансовой ответсвенности и имеется хороший опыт планирования личного бюджета, однако незапланированных расходов гораздо больше.\n",
    "Заёмщики, оформившие кредит на операции с недвижимостью, лучше всех возвращают кредит (7,26% невозврата кредита в срок).\n",
    "Заёмщики, оформившие кредит на операции с автомобилем, самые безответственные (9,35% невозврата кредита в срок).\n",
    "Можно сделать вывод что идеальный заёмщик - одинокий человек, но имеющий опыт семейный отношений, имеющий месячный доход от 200000 до 1000000 рублей, не имеющий детей и обратившийся за кредитом для операций с недвижимостью.**"
   ]
  }
 ],
 "metadata": {
  "ExecuteTimeLog": [
   {
    "duration": 48,
    "start_time": "2024-02-01T12:22:12.459Z"
   },
   {
    "duration": 3,
    "start_time": "2024-02-01T12:22:18.946Z"
   },
   {
    "duration": 6,
    "start_time": "2024-02-01T12:22:25.240Z"
   },
   {
    "duration": 413,
    "start_time": "2024-02-01T12:22:31.986Z"
   },
   {
    "duration": 19,
    "start_time": "2024-02-01T12:22:34.338Z"
   },
   {
    "duration": 13,
    "start_time": "2024-02-01T12:22:38.568Z"
   },
   {
    "duration": 13,
    "start_time": "2024-02-01T12:22:41.459Z"
   },
   {
    "duration": 32,
    "start_time": "2024-02-01T12:22:44.232Z"
   },
   {
    "duration": 3,
    "start_time": "2024-02-01T12:22:46.759Z"
   },
   {
    "duration": 7,
    "start_time": "2024-02-01T12:22:49.046Z"
   },
   {
    "duration": 5,
    "start_time": "2024-02-01T12:22:52.020Z"
   },
   {
    "duration": 6,
    "start_time": "2024-02-01T12:22:54.337Z"
   },
   {
    "duration": 4,
    "start_time": "2024-02-01T12:22:56.238Z"
   },
   {
    "duration": 32,
    "start_time": "2024-02-01T12:22:59.813Z"
   },
   {
    "duration": 9,
    "start_time": "2024-02-01T12:23:02.149Z"
   },
   {
    "duration": 4,
    "start_time": "2024-02-01T12:23:04.642Z"
   },
   {
    "duration": 11,
    "start_time": "2024-02-01T12:23:07.377Z"
   },
   {
    "duration": 18,
    "start_time": "2024-02-01T12:23:09.350Z"
   },
   {
    "duration": 15,
    "start_time": "2024-02-01T12:23:11.176Z"
   },
   {
    "duration": 3,
    "start_time": "2024-02-01T12:23:14.205Z"
   },
   {
    "duration": 15,
    "start_time": "2024-02-01T12:23:17.698Z"
   },
   {
    "duration": 6,
    "start_time": "2024-02-01T12:23:20.203Z"
   },
   {
    "duration": 3,
    "start_time": "2024-02-01T12:23:23.463Z"
   },
   {
    "duration": 8,
    "start_time": "2024-02-01T12:23:25.983Z"
   },
   {
    "duration": 8,
    "start_time": "2024-02-01T12:23:29.953Z"
   },
   {
    "duration": 18,
    "start_time": "2024-02-01T14:02:44.266Z"
   },
   {
    "duration": 15,
    "start_time": "2024-02-01T14:03:07.824Z"
   },
   {
    "duration": 76,
    "start_time": "2024-02-01T14:17:07.673Z"
   },
   {
    "duration": 78,
    "start_time": "2024-02-01T14:17:22.097Z"
   },
   {
    "duration": 21,
    "start_time": "2024-02-01T14:17:31.217Z"
   },
   {
    "duration": 12,
    "start_time": "2024-02-01T14:17:33.358Z"
   },
   {
    "duration": 18,
    "start_time": "2024-02-01T14:17:40.924Z"
   },
   {
    "duration": 36,
    "start_time": "2024-02-01T14:22:23.491Z"
   },
   {
    "duration": 19,
    "start_time": "2024-02-01T14:22:50.946Z"
   },
   {
    "duration": 18,
    "start_time": "2024-02-01T14:23:21.812Z"
   },
   {
    "duration": 18,
    "start_time": "2024-02-01T14:24:54.573Z"
   },
   {
    "duration": 19,
    "start_time": "2024-02-01T14:25:56.749Z"
   },
   {
    "duration": 19,
    "start_time": "2024-02-01T14:26:28.598Z"
   },
   {
    "duration": 18,
    "start_time": "2024-02-01T14:27:21.960Z"
   },
   {
    "duration": 473,
    "start_time": "2024-02-01T21:34:36.058Z"
   },
   {
    "duration": 22,
    "start_time": "2024-02-01T21:34:36.532Z"
   },
   {
    "duration": 14,
    "start_time": "2024-02-01T21:34:36.555Z"
   },
   {
    "duration": 11,
    "start_time": "2024-02-01T21:34:36.571Z"
   },
   {
    "duration": 34,
    "start_time": "2024-02-01T21:34:36.584Z"
   },
   {
    "duration": 3,
    "start_time": "2024-02-01T21:34:36.620Z"
   },
   {
    "duration": 16,
    "start_time": "2024-02-01T21:34:36.625Z"
   },
   {
    "duration": 4,
    "start_time": "2024-02-01T21:34:36.642Z"
   },
   {
    "duration": 8,
    "start_time": "2024-02-01T21:34:36.665Z"
   },
   {
    "duration": 15,
    "start_time": "2024-02-01T21:34:36.676Z"
   },
   {
    "duration": 33,
    "start_time": "2024-02-01T21:34:36.692Z"
   },
   {
    "duration": 9,
    "start_time": "2024-02-01T21:34:36.726Z"
   },
   {
    "duration": 3,
    "start_time": "2024-02-01T21:34:36.737Z"
   },
   {
    "duration": 27,
    "start_time": "2024-02-01T21:34:36.741Z"
   },
   {
    "duration": 26,
    "start_time": "2024-02-01T21:34:36.770Z"
   },
   {
    "duration": 16,
    "start_time": "2024-02-01T21:34:36.797Z"
   },
   {
    "duration": 4,
    "start_time": "2024-02-01T21:34:36.814Z"
   },
   {
    "duration": 11,
    "start_time": "2024-02-01T21:34:36.819Z"
   },
   {
    "duration": 7,
    "start_time": "2024-02-01T21:34:36.831Z"
   },
   {
    "duration": 3,
    "start_time": "2024-02-01T21:34:36.839Z"
   },
   {
    "duration": 9,
    "start_time": "2024-02-01T21:34:36.871Z"
   },
   {
    "duration": 84,
    "start_time": "2024-02-01T21:34:36.881Z"
   },
   {
    "duration": 0,
    "start_time": "2024-02-01T21:34:36.967Z"
   },
   {
    "duration": 0,
    "start_time": "2024-02-01T21:34:36.968Z"
   },
   {
    "duration": 0,
    "start_time": "2024-02-01T21:34:36.969Z"
   },
   {
    "duration": 57,
    "start_time": "2024-02-02T11:06:49.557Z"
   },
   {
    "duration": 4,
    "start_time": "2024-02-02T11:07:23.026Z"
   },
   {
    "duration": 11,
    "start_time": "2024-02-02T11:07:26.700Z"
   },
   {
    "duration": 731,
    "start_time": "2024-02-02T11:09:07.624Z"
   },
   {
    "duration": 30,
    "start_time": "2024-02-02T11:09:15.474Z"
   },
   {
    "duration": 18,
    "start_time": "2024-02-02T11:09:19.177Z"
   },
   {
    "duration": 12,
    "start_time": "2024-02-02T11:09:25.443Z"
   },
   {
    "duration": 39,
    "start_time": "2024-02-02T11:09:28.287Z"
   },
   {
    "duration": 6,
    "start_time": "2024-02-02T11:09:30.467Z"
   },
   {
    "duration": 8,
    "start_time": "2024-02-02T11:09:32.399Z"
   },
   {
    "duration": 5,
    "start_time": "2024-02-02T11:09:36.406Z"
   },
   {
    "duration": 11,
    "start_time": "2024-02-02T11:09:38.671Z"
   },
   {
    "duration": 5,
    "start_time": "2024-02-02T11:09:40.392Z"
   },
   {
    "duration": 41,
    "start_time": "2024-02-02T11:09:42.832Z"
   },
   {
    "duration": 16,
    "start_time": "2024-02-02T11:09:45.128Z"
   },
   {
    "duration": 4,
    "start_time": "2024-02-02T11:09:48.654Z"
   },
   {
    "duration": 16,
    "start_time": "2024-02-02T11:09:50.475Z"
   },
   {
    "duration": 22,
    "start_time": "2024-02-02T11:09:53.368Z"
   },
   {
    "duration": 18,
    "start_time": "2024-02-02T11:09:54.996Z"
   },
   {
    "duration": 4,
    "start_time": "2024-02-02T11:09:57.835Z"
   },
   {
    "duration": 11,
    "start_time": "2024-02-02T11:09:59.997Z"
   },
   {
    "duration": 6,
    "start_time": "2024-02-02T11:10:02.127Z"
   },
   {
    "duration": 7,
    "start_time": "2024-02-02T11:10:05.271Z"
   },
   {
    "duration": 12,
    "start_time": "2024-02-02T11:10:07.151Z"
   },
   {
    "duration": 55,
    "start_time": "2024-02-02T11:10:09.024Z"
   },
   {
    "duration": 9,
    "start_time": "2024-02-02T11:10:59.444Z"
   },
   {
    "duration": 28,
    "start_time": "2024-02-02T11:11:16.481Z"
   },
   {
    "duration": 33,
    "start_time": "2024-02-02T11:11:32.546Z"
   },
   {
    "duration": 26,
    "start_time": "2024-02-02T11:11:40.401Z"
   },
   {
    "duration": 17,
    "start_time": "2024-02-02T11:26:58.221Z"
   },
   {
    "duration": 25,
    "start_time": "2024-02-02T11:28:21.030Z"
   },
   {
    "duration": 26,
    "start_time": "2024-02-02T11:29:07.363Z"
   },
   {
    "duration": 26,
    "start_time": "2024-02-02T11:48:26.508Z"
   },
   {
    "duration": 18,
    "start_time": "2024-02-02T12:03:50.925Z"
   },
   {
    "duration": 31,
    "start_time": "2024-02-02T12:04:23.292Z"
   },
   {
    "duration": 51,
    "start_time": "2024-02-03T15:08:00.913Z"
   },
   {
    "duration": 8,
    "start_time": "2024-02-03T15:08:08.169Z"
   },
   {
    "duration": 744,
    "start_time": "2024-02-03T15:08:23.944Z"
   },
   {
    "duration": 25,
    "start_time": "2024-02-03T15:08:27.477Z"
   },
   {
    "duration": 17,
    "start_time": "2024-02-03T15:08:31.042Z"
   },
   {
    "duration": 12,
    "start_time": "2024-02-03T15:08:34.095Z"
   },
   {
    "duration": 42,
    "start_time": "2024-02-03T15:08:37.022Z"
   },
   {
    "duration": 5,
    "start_time": "2024-02-03T15:08:39.507Z"
   },
   {
    "duration": 9,
    "start_time": "2024-02-03T15:08:41.673Z"
   },
   {
    "duration": 5,
    "start_time": "2024-02-03T15:08:44.272Z"
   },
   {
    "duration": 6,
    "start_time": "2024-02-03T15:08:47.058Z"
   },
   {
    "duration": 5,
    "start_time": "2024-02-03T15:08:49.020Z"
   },
   {
    "duration": 38,
    "start_time": "2024-02-03T15:08:51.228Z"
   },
   {
    "duration": 11,
    "start_time": "2024-02-03T15:08:53.680Z"
   },
   {
    "duration": 4,
    "start_time": "2024-02-03T15:08:57.083Z"
   },
   {
    "duration": 12,
    "start_time": "2024-02-03T15:08:59.369Z"
   },
   {
    "duration": 20,
    "start_time": "2024-02-03T15:09:01.190Z"
   },
   {
    "duration": 18,
    "start_time": "2024-02-03T15:09:03.059Z"
   },
   {
    "duration": 4,
    "start_time": "2024-02-03T15:09:06.218Z"
   },
   {
    "duration": 11,
    "start_time": "2024-02-03T15:09:08.309Z"
   },
   {
    "duration": 7,
    "start_time": "2024-02-03T15:09:10.326Z"
   },
   {
    "duration": 4,
    "start_time": "2024-02-03T15:09:13.351Z"
   },
   {
    "duration": 12,
    "start_time": "2024-02-03T15:09:15.366Z"
   },
   {
    "duration": 37,
    "start_time": "2024-02-03T15:09:17.734Z"
   },
   {
    "duration": 26,
    "start_time": "2024-02-03T15:09:38.851Z"
   },
   {
    "duration": 28,
    "start_time": "2024-02-03T15:09:47.373Z"
   },
   {
    "duration": 24,
    "start_time": "2024-02-03T15:09:55.629Z"
   },
   {
    "duration": 574,
    "start_time": "2024-02-27T12:22:31.560Z"
   },
   {
    "duration": 23,
    "start_time": "2024-02-27T12:22:33.813Z"
   },
   {
    "duration": 18,
    "start_time": "2024-02-27T12:22:36.902Z"
   },
   {
    "duration": 12,
    "start_time": "2024-02-27T12:22:42.154Z"
   },
   {
    "duration": 37,
    "start_time": "2024-02-27T12:22:45.384Z"
   },
   {
    "duration": 4,
    "start_time": "2024-02-27T12:22:47.650Z"
   },
   {
    "duration": 8,
    "start_time": "2024-02-27T12:22:49.447Z"
   },
   {
    "duration": 5,
    "start_time": "2024-02-27T12:22:52.086Z"
   },
   {
    "duration": 8,
    "start_time": "2024-02-27T12:22:54.222Z"
   },
   {
    "duration": 4,
    "start_time": "2024-02-27T12:22:56.482Z"
   },
   {
    "duration": 37,
    "start_time": "2024-02-27T12:22:59.110Z"
   },
   {
    "duration": 16,
    "start_time": "2024-02-27T12:23:01.193Z"
   },
   {
    "duration": 4,
    "start_time": "2024-02-27T12:23:04.420Z"
   },
   {
    "duration": 15,
    "start_time": "2024-02-27T12:23:07.186Z"
   },
   {
    "duration": 22,
    "start_time": "2024-02-27T12:23:09.269Z"
   },
   {
    "duration": 18,
    "start_time": "2024-02-27T12:23:11.262Z"
   },
   {
    "duration": 3,
    "start_time": "2024-02-27T12:23:14.387Z"
   },
   {
    "duration": 11,
    "start_time": "2024-02-27T12:23:16.345Z"
   },
   {
    "duration": 6,
    "start_time": "2024-02-27T12:23:18.939Z"
   },
   {
    "duration": 4,
    "start_time": "2024-02-27T12:23:22.257Z"
   },
   {
    "duration": 9,
    "start_time": "2024-02-27T12:23:25.109Z"
   },
   {
    "duration": 28,
    "start_time": "2024-02-27T12:23:28.757Z"
   },
   {
    "duration": 26,
    "start_time": "2024-02-27T12:23:32.127Z"
   },
   {
    "duration": 23,
    "start_time": "2024-02-27T12:23:35.307Z"
   },
   {
    "duration": 24,
    "start_time": "2024-02-27T12:23:39.151Z"
   },
   {
    "duration": 23,
    "start_time": "2024-02-27T12:24:01.126Z"
   }
  ],
  "colab": {
   "provenance": []
  },
  "kernelspec": {
   "display_name": "Python 3 (ipykernel)",
   "language": "python",
   "name": "python3"
  },
  "language_info": {
   "codemirror_mode": {
    "name": "ipython",
    "version": 3
   },
   "file_extension": ".py",
   "mimetype": "text/x-python",
   "name": "python",
   "nbconvert_exporter": "python",
   "pygments_lexer": "ipython3",
   "version": "3.9.18"
  },
  "toc": {
   "base_numbering": 1,
   "nav_menu": {},
   "number_sections": true,
   "sideBar": true,
   "skip_h1_title": true,
   "title_cell": "Table of Contents",
   "title_sidebar": "Contents",
   "toc_cell": false,
   "toc_position": {},
   "toc_section_display": true,
   "toc_window_display": false
  },
  "widgets": {
   "application/vnd.jupyter.widget-state+json": {
    "state": {},
    "version_major": 2,
    "version_minor": 0
   }
  }
 },
 "nbformat": 4,
 "nbformat_minor": 5
}
